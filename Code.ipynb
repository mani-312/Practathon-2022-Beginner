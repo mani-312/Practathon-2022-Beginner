{
 "cells": [
  {
   "cell_type": "markdown",
   "id": "a6202ee9",
   "metadata": {},
   "source": [
    "<font size=\"4\"><b>Importing Necessary Libraries</b></font><br>"
   ]
  },
  {
   "cell_type": "code",
   "execution_count": 1,
   "id": "84ccd90f",
   "metadata": {},
   "outputs": [],
   "source": [
    "import time\n",
    "from heapq import heappop, heappush, heapify\n",
    "import numpy as np"
   ]
  },
  {
   "cell_type": "markdown",
   "id": "d79ad04e",
   "metadata": {},
   "source": [
    "<font size = \"3\"><b>10 Millon Data points creation of Normal Distribution</b></font>"
   ]
  },
  {
   "cell_type": "code",
   "execution_count": 2,
   "id": "efb70592",
   "metadata": {},
   "outputs": [],
   "source": [
    "N = int(1e7)\n",
    "dim = 100\n",
    "rng = np.random.default_rng()\n",
    "data = rng.standard_normal(size = (N,dim),dtype = \"float32\")*100\n",
    "#data = np.random.uniform(-100,100,(N,dim))  "
   ]
  },
  {
   "cell_type": "code",
   "execution_count": 3,
   "id": "e7c030f9",
   "metadata": {},
   "outputs": [
    {
     "data": {
      "text/plain": [
       "(10000000, 100)"
      ]
     },
     "execution_count": 3,
     "metadata": {},
     "output_type": "execute_result"
    }
   ],
   "source": [
    "data.shape"
   ]
  },
  {
   "cell_type": "markdown",
   "id": "c4345b46",
   "metadata": {},
   "source": [
    "<font size = \"3\"><b>Algorithm to get the top 10 nearest point indices</b>"
   ]
  },
  {
   "cell_type": "code",
   "execution_count": 5,
   "id": "20b4d3bd",
   "metadata": {},
   "outputs": [],
   "source": [
    "def top10Fast(data,point):\n",
    "    st = time.time()\n",
    "    \n",
    "    N = len(data)\n",
    "    heap = []\n",
    "    for i in range(10):\n",
    "        dist = np.linalg.norm(point - data[i])\n",
    "        heappush(heap,(-dist,i))\n",
    "    for i in range(10,N):\n",
    "        dist = np.linalg.norm(point - data[i])\n",
    "        if dist < -heap[0][0]:\n",
    "            heappop(heap)\n",
    "            heappush(heap,(-dist,i))\n",
    "    ret = np.arange(10)\n",
    "    for i in range(10):\n",
    "        ret[i] = heappop(heap)[1]\n",
    "    et = time.time()\n",
    "    print(\"Time taken(Fast) -- \",et-st)\n",
    "    ret = ret[::-1]\n",
    "    return ret,et-st"
   ]
  },
  {
   "cell_type": "markdown",
   "id": "2818b8cd",
   "metadata": {},
   "source": [
    "<font size = \"3\"><b>Brute Force algorithm to get the top 10 nearest points</b>"
   ]
  },
  {
   "cell_type": "code",
   "execution_count": 6,
   "id": "8207110b",
   "metadata": {},
   "outputs": [],
   "source": [
    "def bruteForce(data,point):\n",
    "    st = time.time()\n",
    "    N = len(data)\n",
    "    dis_all = np.linalg.norm(data-point,axis = 1)\n",
    "    top10 = np.argsort(dis_all)[:10]\n",
    "    et = time.time()\n",
    "    print(\"Time taken(Brute) -- \",et-st)\n",
    "    return top10"
   ]
  },
  {
   "cell_type": "markdown",
   "id": "a039079c",
   "metadata": {},
   "source": [
    "<font size = \"3\"><b>Checking for 10 queries</b>"
   ]
  },
  {
   "cell_type": "code",
   "execution_count": 7,
   "id": "80b81369",
   "metadata": {},
   "outputs": [
    {
     "name": "stdout",
     "output_type": "stream",
     "text": [
      "Time taken(Fast) --  40.93228554725647\n",
      "Time taken(Brute) --  50.39807963371277\n",
      "1  -- Done\n",
      "Time taken(Fast) --  55.45761513710022\n",
      "Time taken(Brute) --  59.86599040031433\n",
      "2  -- Done\n",
      "Time taken(Fast) --  66.23801684379578\n",
      "Time taken(Brute) --  63.897883892059326\n",
      "3  -- Done\n",
      "Time taken(Fast) --  54.44380259513855\n",
      "Time taken(Brute) --  57.84285354614258\n",
      "4  -- Done\n",
      "Time taken(Fast) --  51.07571506500244\n",
      "Time taken(Brute) --  56.30766582489014\n",
      "5  -- Done\n",
      "Time taken(Fast) --  52.09323978424072\n",
      "Time taken(Brute) --  60.91282057762146\n",
      "6  -- Done\n",
      "Time taken(Fast) --  51.3584258556366\n",
      "Time taken(Brute) --  56.08229470252991\n",
      "7  -- Done\n",
      "Time taken(Fast) --  50.39611077308655\n",
      "Time taken(Brute) --  57.33543395996094\n",
      "8  -- Done\n",
      "Time taken(Fast) --  49.615657567977905\n",
      "Time taken(Brute) --  58.90659427642822\n",
      "9  -- Done\n",
      "Time taken(Fast) --  47.128817081451416\n",
      "Time taken(Brute) --  58.97908282279968\n",
      "10  -- Done\n"
     ]
    }
   ],
   "source": [
    "N_queries = 10\n",
    "queries = rng.standard_normal(size = (N_queries,dim),dtype = \"float32\")*100\n",
    "#queries = np.random.uniform(-100,100,(N_queries,dim))\n",
    "tt_queries = np.arange(N_queries)\n",
    "for i in range(N_queries):\n",
    "    query = queries[i]\n",
    "    indices_Fast,tt = top10Fast(data,query)\n",
    "    indices_brute = bruteForce(data,query)\n",
    "    \n",
    "    tt_queries[i] = tt\n",
    "    if np.array_equal(indices_Fast,indices_brute) == False:\n",
    "        print(\"Failed\")\n",
    "        print(indices_Fast)\n",
    "        print(indices_brute)\n",
    "        break\n",
    "    print(i+1,\" -- Done\")"
   ]
  },
  {
   "cell_type": "code",
   "execution_count": 20,
   "id": "388778e0",
   "metadata": {},
   "outputs": [
    {
     "data": {
      "text/plain": [
       "51.0"
      ]
     },
     "execution_count": 20,
     "metadata": {},
     "output_type": "execute_result"
    }
   ],
   "source": [
    "# Median time taken (sec)\n",
    "np.median(tt_queries)"
   ]
  },
  {
   "cell_type": "code",
   "execution_count": null,
   "id": "394a35d3",
   "metadata": {},
   "outputs": [],
   "source": []
  }
 ],
 "metadata": {
  "kernelspec": {
   "display_name": "Python 3 (ipykernel)",
   "language": "python",
   "name": "python3"
  },
  "language_info": {
   "codemirror_mode": {
    "name": "ipython",
    "version": 3
   },
   "file_extension": ".py",
   "mimetype": "text/x-python",
   "name": "python",
   "nbconvert_exporter": "python",
   "pygments_lexer": "ipython3",
   "version": "3.10.5"
  }
 },
 "nbformat": 4,
 "nbformat_minor": 5
}
